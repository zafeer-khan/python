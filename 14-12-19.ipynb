{
 "cells": [
  {
   "cell_type": "markdown",
   "metadata": {},
   "source": [
    "# CHECK IF A NUMBER IS POSITIVE NEGATIVE OR ZERO"
   ]
  },
  {
   "cell_type": "code",
   "execution_count": 2,
   "metadata": {},
   "outputs": [
    {
     "name": "stdout",
     "output_type": "stream",
     "text": [
      "enter a number-23\n",
      "negative number\n"
     ]
    }
   ],
   "source": [
    "n=int(input(\"enter a number\"))\n",
    "if n==0:\n",
    "      print(\"zero\")\n",
    "elif n>0:\n",
    "    print(\"positive number\")\n",
    "elif n<0:\n",
    "    print(\"negative number\")"
   ]
  },
  {
   "cell_type": "markdown",
   "metadata": {},
   "source": [
    "# CHECK INPUT YEAR IS LEAP YEAR OR NOT"
   ]
  },
  {
   "cell_type": "code",
   "execution_count": 6,
   "metadata": {},
   "outputs": [
    {
     "name": "stdout",
     "output_type": "stream",
     "text": [
      "enter an year2004\n",
      "entered year is a leap year\n"
     ]
    }
   ],
   "source": [
    "n=int(input(\"enter an year\"))\n",
    "if n%4==0 and (n%100!=0 or n%400==0):\n",
    "    print(\"entered year is a leap year\")\n",
    "else:\n",
    "    print(\"entered year is not a leap year\")"
   ]
  },
  {
   "cell_type": "markdown",
   "metadata": {},
   "source": [
    "# FIND THE LARGEST OF 3 NUMBERS\n"
   ]
  },
  {
   "cell_type": "code",
   "execution_count": 7,
   "metadata": {},
   "outputs": [
    {
     "name": "stdout",
     "output_type": "stream",
     "text": [
      "enter 1st number3\n",
      "enter 2nd number5\n",
      "enter 3rd number6\n",
      "3rd number is largest\n"
     ]
    }
   ],
   "source": [
    "a=int(input(\"enter 1st number\"))\n",
    "b=int(input(\"enter 2nd number\"))\n",
    "c=int(input(\"enter 3rd number\"))\n",
    "if a>b and a>c:\n",
    "    print(\"1st number is largest\")\n",
    "elif b>a and b>c:\n",
    "    print(\"2nd number is largest\")\n",
    "elif c>a and c>b:\n",
    "    print(\"3rd number is largest\")\n"
   ]
  },
  {
   "cell_type": "markdown",
   "metadata": {},
   "source": [
    "# WHILE LOOP\n",
    "SYNTAX:\n",
    "#### WHILE BOOLEAN CONDITION:<br>\n",
    "        STATEMENTS <br>\n",
    "        increment/decrement"
   ]
  },
  {
   "cell_type": "code",
   "execution_count": 4,
   "metadata": {},
   "outputs": [
    {
     "name": "stdout",
     "output_type": "stream",
     "text": [
      "gitam\n",
      "gitam\n",
      "gitam\n",
      "gitam\n",
      "gitam\n",
      "gitam\n",
      "gitam\n",
      "gitam\n",
      "gitam\n",
      "gitam\n",
      "gitam\n",
      "gitam\n",
      "gitam\n",
      "gitam\n",
      "gitam\n",
      "gitam\n",
      "gitam\n",
      "gitam\n",
      "gitam\n",
      "gitam\n",
      "gitam\n",
      "gitam\n",
      "gitam\n",
      "gitam\n",
      "gitam\n",
      "gitam\n",
      "gitam\n",
      "gitam\n",
      "gitam\n",
      "gitam\n",
      "gitam\n",
      "gitam\n",
      "gitam\n",
      "gitam\n",
      "gitam\n",
      "gitam\n",
      "gitam\n",
      "gitam\n",
      "gitam\n",
      "gitam\n",
      "gitam\n",
      "gitam\n",
      "gitam\n",
      "gitam\n",
      "gitam\n",
      "gitam\n",
      "gitam\n",
      "gitam\n",
      "gitam\n",
      "gitam\n"
     ]
    }
   ],
   "source": [
    "i=0\n",
    "while i<50:\n",
    "    print(\"gitam\")\n",
    "    i=i+1\n",
    "    "
   ]
  },
  {
   "cell_type": "markdown",
   "metadata": {},
   "source": [
    "# TO PRINT 1 TO 10 NUMBERS"
   ]
  },
  {
   "cell_type": "code",
   "execution_count": 10,
   "metadata": {
    "scrolled": true
   },
   "outputs": [
    {
     "name": "stdout",
     "output_type": "stream",
     "text": [
      "1\n",
      "2\n",
      "3\n",
      "4\n",
      "5\n",
      "6\n",
      "7\n",
      "8\n",
      "9\n",
      "10\n"
     ]
    }
   ],
   "source": [
    "i=1\n",
    "while i<11:\n",
    "    print(i)\n",
    "    i=i+1\n",
    "    "
   ]
  },
  {
   "cell_type": "code",
   "execution_count": null,
   "metadata": {},
   "outputs": [],
   "source": [
    "n=int(input(\"enter a number\"))\n",
    "i=1\n",
    "while i<n+1:\n",
    "    print(i)\n",
    "    i=i+1\n",
    "    "
   ]
  },
  {
   "cell_type": "code",
   "execution_count": null,
   "metadata": {},
   "outputs": [],
   "source": [
    "n=int(input(\"enter a number\"))\n",
    "i=1\n",
    "sum=0\n",
    "while i<=n:\n",
    "    if i%2==0:\n",
    "        sum=sum+i\n",
    "    i=i+1\n",
    "print(sum)"
   ]
  },
  {
   "cell_type": "code",
   "execution_count": null,
   "metadata": {},
   "outputs": [],
   "source": []
  }
 ],
 "metadata": {
  "kernelspec": {
   "display_name": "Python 3",
   "language": "python",
   "name": "python3"
  },
  "language_info": {
   "codemirror_mode": {
    "name": "ipython",
    "version": 3
   },
   "file_extension": ".py",
   "mimetype": "text/x-python",
   "name": "python",
   "nbconvert_exporter": "python",
   "pygments_lexer": "ipython3",
   "version": "3.7.3"
  }
 },
 "nbformat": 4,
 "nbformat_minor": 2
}

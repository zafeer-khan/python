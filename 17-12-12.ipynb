{
 "cells": [
  {
   "cell_type": "markdown",
   "metadata": {},
   "source": [
    "# COLLECTION OF DATATYPES:\n",
    "1. List\n",
    "2. Tuple\n",
    "3. Set \n",
    "4. Dictionary"
   ]
  },
  {
   "cell_type": "markdown",
   "metadata": {},
   "source": [
    "### LIST\n",
    "- One of the data structures in python.\n",
    "- Data structures are means to store, sort and search options\n",
    "- it's a common data structure in python; items of the list are separeted by comma and enclosed by square brackets.\n",
    "\n",
    "###### example\n",
    "- list1=[1,2,3,4]\n",
    "- list2=[\"gitam\",1,2,3]"
   ]
  },
  {
   "cell_type": "code",
   "execution_count": 18,
   "metadata": {},
   "outputs": [
    {
     "name": "stdout",
     "output_type": "stream",
     "text": [
      "34\n",
      "34\n",
      "[1, 3, 34, 23, 32]\n",
      "[34, 23, 32]\n",
      "[34, 23]\n",
      "[3, 34, 23]\n"
     ]
    }
   ],
   "source": [
    "li = [1,3,34,23,32]\n",
    "print(li[2])\n",
    "print(li[-3])\n",
    "print(li)\n",
    "print(li[2:])\n",
    "print(li[2:4])\n",
    "print(li[1:-1])"
   ]
  },
  {
   "cell_type": "code",
   "execution_count": 25,
   "metadata": {
    "scrolled": true
   },
   "outputs": [
    {
     "name": "stdout",
     "output_type": "stream",
     "text": [
      "t\n",
      "['gitam', 23, 'hyd']\n"
     ]
    }
   ],
   "source": [
    "li = [\"gitam\",23,32,\"hyd\"]\n",
    "print(li [0][2])\n",
    "del li[2]\n",
    "print(li)"
   ]
  },
  {
   "cell_type": "code",
   "execution_count": 26,
   "metadata": {},
   "outputs": [
    {
     "name": "stdout",
     "output_type": "stream",
     "text": [
      "['gitam', 1234, 'hyd']\n"
     ]
    }
   ],
   "source": [
    "#update\n",
    "li[1]=1234\n",
    "print(li)"
   ]
  },
  {
   "cell_type": "code",
   "execution_count": 34,
   "metadata": {},
   "outputs": [
    {
     "name": "stdout",
     "output_type": "stream",
     "text": [
      "34\n",
      "1\n",
      "93\n",
      "5\n",
      "18\n"
     ]
    }
   ],
   "source": [
    "li = [1,3,34,23,32]\n",
    "print(max(li))\n",
    "print(min(li))\n",
    "print(sum(li))\n",
    "print(len(li))\n",
    "print(sum(li)//len(li))\n"
   ]
  },
  {
   "cell_type": "code",
   "execution_count": 40,
   "metadata": {},
   "outputs": [
    {
     "name": "stdout",
     "output_type": "stream",
     "text": [
      "[1, 3, 34, 23, 32, 1, 80]\n",
      "[1, 3, 50, 34, 23, 32, 1, 80]\n"
     ]
    },
    {
     "data": {
      "text/plain": [
       "2"
      ]
     },
     "execution_count": 40,
     "metadata": {},
     "output_type": "execute_result"
    }
   ],
   "source": [
    "li = [1,3,34,23,32,1]\n",
    "li.append(80)\n",
    "print(li)\n",
    "li.insert(2,50)\n",
    "print(li)\n",
    "li.count(1)"
   ]
  },
  {
   "cell_type": "code",
   "execution_count": 43,
   "metadata": {},
   "outputs": [
    {
     "data": {
      "text/plain": [
       "3"
      ]
     },
     "execution_count": 43,
     "metadata": {},
     "output_type": "execute_result"
    }
   ],
   "source": [
    "li = [1,3,34,23,32,1]\n",
    "li.index(23)"
   ]
  },
  {
   "cell_type": "code",
   "execution_count": 45,
   "metadata": {},
   "outputs": [
    {
     "name": "stdout",
     "output_type": "stream",
     "text": [
      "[1, 1, 3, 23, 32, 34]\n"
     ]
    }
   ],
   "source": [
    "li = [1,3,34,23,32,1]\n",
    "li.sort()\n",
    "print(li)"
   ]
  },
  {
   "cell_type": "code",
   "execution_count": 48,
   "metadata": {},
   "outputs": [
    {
     "name": "stdout",
     "output_type": "stream",
     "text": [
      "[1, 3, 23, 32, 1]\n",
      "[1, 3, 23, 32]\n"
     ]
    }
   ],
   "source": [
    "li = [1,3,34,23,32,1]\n",
    "li.pop(2)\n",
    "print(li)\n",
    "li.pop()\n",
    "print(li)"
   ]
  },
  {
   "cell_type": "markdown",
   "metadata": {},
   "source": [
    "###### pop-removes the last index value\n",
    "###### del-deletes the given index value\n",
    "###### pop(index)-deletes the specified index value"
   ]
  },
  {
   "cell_type": "code",
   "execution_count": 56,
   "metadata": {},
   "outputs": [
    {
     "name": "stdout",
     "output_type": "stream",
     "text": [
      "[1, 3, 34, 23, 32, 1, 4, 66, 46, 2314]\n"
     ]
    },
    {
     "data": {
      "text/plain": [
       "[2314, 46, 66, 4, 1, 32, 23, 34, 3, 1]"
      ]
     },
     "execution_count": 56,
     "metadata": {},
     "output_type": "execute_result"
    }
   ],
   "source": [
    "li = [1,3,34,23,32,1]\n",
    "li1 = [4,66,46,2314]\n",
    "li.extend(li1)\n",
    "print(li)\n",
    "li.reverse()\n",
    "li"
   ]
  },
  {
   "cell_type": "code",
   "execution_count": 59,
   "metadata": {},
   "outputs": [
    {
     "name": "stdout",
     "output_type": "stream",
     "text": [
      "74\n",
      "56\n"
     ]
    }
   ],
   "source": [
    "#function to return the largest number\n",
    "def largenumber(li):\n",
    "    li.sort()\n",
    "    return li[-1]\n",
    "def genericlarge(li,n):\n",
    "    li.sort()\n",
    "    return li[-n]\n",
    "li=[19,32,45,74,12,34,56]\n",
    "print(largenumber(li))\n",
    "print(genericlarge(li,2))"
   ]
  },
  {
   "cell_type": "code",
   "execution_count": 62,
   "metadata": {},
   "outputs": [
    {
     "name": "stdout",
     "output_type": "stream",
     "text": [
      "12\n",
      "[12, 19, 32, 34, 45, 56, 74]\n",
      "32\n"
     ]
    }
   ],
   "source": [
    "#function to return the smallest number\n",
    "def smallnumber(li):\n",
    "    li.sort()\n",
    "    return li[0]\n",
    "def genericsmall(li,n):\n",
    "    li.sort()\n",
    "    print(li)\n",
    "    return li[n]\n",
    "li=[19,32,45,74,12,34,56]\n",
    "print(smallnumber(li))\n",
    "print(genericsmall(li,2))"
   ]
  },
  {
   "cell_type": "markdown",
   "metadata": {},
   "source": [
    "### TUPLE\n",
    "- It's a common data structure in python; items of the tuple are separeted by comma and enclosed by brackets().\n",
    "###### example:\n",
    "t1=(1,2,3,4,5)"
   ]
  },
  {
   "cell_type": "markdown",
   "metadata": {},
   "source": [
    "#### LIST AND TUPLE\n",
    "- Lists are mutable -can be changed or modified.\n",
    "- Lists can be used to modify, add, delete,update.\n",
    "- tuple are immutable -cannot be changed.\n",
    "- tuple used to access data only.\n"
   ]
  },
  {
   "cell_type": "code",
   "execution_count": 63,
   "metadata": {},
   "outputs": [
    {
     "data": {
      "text/plain": [
       "(1, 32, 42, 1231)"
      ]
     },
     "execution_count": 63,
     "metadata": {},
     "output_type": "execute_result"
    }
   ],
   "source": [
    "ti = (1,32,42,1231)\n",
    "ti"
   ]
  },
  {
   "cell_type": "markdown",
   "metadata": {},
   "source": [
    "### DICTIONARIES\n",
    "1. It works on concept of set unique data.\n",
    "2. Dictionary contains keys and values.\n",
    "3. Each key and value separated by comma.\n",
    "4. Each key is separated from its value with a colon(:)\n",
    "5. enclosed in {} use [] for calling.\n"
   ]
  },
  {
   "cell_type": "code",
   "execution_count": 66,
   "metadata": {},
   "outputs": [
    {
     "data": {
      "text/plain": [
       "{'name': 'gitam', 'email': 'gitam@in', 'address': 'hyderabad'}"
      ]
     },
     "execution_count": 66,
     "metadata": {},
     "output_type": "execute_result"
    }
   ],
   "source": [
    "di = {\"name\":\"gitam\",\"email\":\"gitam@in\",\"address\":\"hyderabad\"}\n",
    "di"
   ]
  },
  {
   "cell_type": "code",
   "execution_count": 71,
   "metadata": {},
   "outputs": [
    {
     "data": {
      "text/plain": [
       "'gitam'"
      ]
     },
     "execution_count": 71,
     "metadata": {},
     "output_type": "execute_result"
    }
   ],
   "source": [
    "di[\"name\"]"
   ]
  },
  {
   "cell_type": "code",
   "execution_count": 72,
   "metadata": {},
   "outputs": [
    {
     "data": {
      "text/plain": [
       "{'name': 'ajay', 'email': 'gitam@in', 'address': 'hyderabad'}"
      ]
     },
     "execution_count": 72,
     "metadata": {},
     "output_type": "execute_result"
    }
   ],
   "source": [
    "# update\n",
    "di = {\"name\":\"gitam\",\"email\":\"gitam@in\",\"address\":\"hyderabad\"}\n",
    "di['name']='ajay'\n",
    "di"
   ]
  },
  {
   "cell_type": "code",
   "execution_count": 74,
   "metadata": {},
   "outputs": [
    {
     "data": {
      "text/plain": [
       "{'name': 'ajay',\n",
       " 'email': 'gitam@in',\n",
       " 'address': 'hyderabad',\n",
       " 'roll_no': '221710311042'}"
      ]
     },
     "execution_count": 74,
     "metadata": {},
     "output_type": "execute_result"
    }
   ],
   "source": [
    "# add a key value\n",
    "di['roll_no']='221710311042'\n",
    "di"
   ]
  },
  {
   "cell_type": "code",
   "execution_count": 75,
   "metadata": {},
   "outputs": [
    {
     "data": {
      "text/plain": [
       "dict_keys(['name', 'email', 'address', 'roll_no'])"
      ]
     },
     "execution_count": 75,
     "metadata": {},
     "output_type": "execute_result"
    }
   ],
   "source": [
    "di.keys()"
   ]
  },
  {
   "cell_type": "code",
   "execution_count": 77,
   "metadata": {},
   "outputs": [
    {
     "data": {
      "text/plain": [
       "dict_values(['ajay', 'gitam@in', 'hyderabad', '221710311042'])"
      ]
     },
     "execution_count": 77,
     "metadata": {},
     "output_type": "execute_result"
    }
   ],
   "source": [
    "di.values()"
   ]
  },
  {
   "cell_type": "code",
   "execution_count": 79,
   "metadata": {},
   "outputs": [
    {
     "data": {
      "text/plain": [
       "dict_items([('name', 'ajay'), ('email', 'gitam@in'), ('address', 'hyderabad'), ('roll_no', '221710311042')])"
      ]
     },
     "execution_count": 79,
     "metadata": {},
     "output_type": "execute_result"
    }
   ],
   "source": [
    "di.items()"
   ]
  },
  {
   "cell_type": "markdown",
   "metadata": {},
   "source": [
    "### STRINGS:\n"
   ]
  },
  {
   "cell_type": "code",
   "execution_count": 81,
   "metadata": {},
   "outputs": [
    {
     "name": "stdout",
     "output_type": "stream",
     "text": [
      "HELLO\n"
     ]
    }
   ],
   "source": [
    "python=\"HELLO\"\n",
    "print(python)"
   ]
  },
  {
   "cell_type": "code",
   "execution_count": 85,
   "metadata": {},
   "outputs": [
    {
     "name": "stdout",
     "output_type": "stream",
     "text": [
      "H\n"
     ]
    }
   ],
   "source": [
    "python=\"HELLO\"\n",
    "print(python[0])"
   ]
  },
  {
   "cell_type": "code",
   "execution_count": 93,
   "metadata": {},
   "outputs": [
    {
     "name": "stdout",
     "output_type": "stream",
     "text": [
      "3\n",
      "L\n",
      "ELL\n",
      "L\n",
      "OLLEH\n"
     ]
    }
   ],
   "source": [
    "python=\"HELLO\"\n",
    "print(len(python)-2)\n",
    "print(python[len(python)-2])\n",
    "print(python[1:-1])\n",
    "print(python[len(python)//2])\n",
    "print(python[::-1]) #reverse"
   ]
  },
  {
   "cell_type": "markdown",
   "metadata": {},
   "source": [
    "# STRING BUILT IN METHODS:\n",
    "- Upper\n",
    "- lower\n",
    "- islower\n",
    "- isupper\n",
    "- istitle\n",
    "- isnumeric\n",
    "- isalpha\n",
    "- isspace"
   ]
  },
  {
   "cell_type": "code",
   "execution_count": 102,
   "metadata": {},
   "outputs": [
    {
     "name": "stdout",
     "output_type": "stream",
     "text": [
      "ANIKET\n",
      "aniket\n",
      "False\n",
      "True\n",
      "False\n",
      "False\n",
      "True\n",
      "True\n"
     ]
    }
   ],
   "source": [
    "py=\"aniket\"\n",
    "print(py.upper())\n",
    "print(py.lower())\n",
    "print(py.isupper())\n",
    "print(py.islower())\n",
    "print(py.istitle())\n",
    "print(py.isnumeric())\n",
    "print(py.isalpha())\n",
    "s1=\" \"\n",
    "print(s1.isspace())"
   ]
  },
  {
   "cell_type": "markdown",
   "metadata": {},
   "source": [
    "### STRING METHODS:\n",
    "- join()\n",
    "- split()\n",
    "- replace()"
   ]
  },
  {
   "cell_type": "code",
   "execution_count": 104,
   "metadata": {},
   "outputs": [
    {
     "name": "stdout",
     "output_type": "stream",
     "text": [
      "p    y    t    h    o    n\n"
     ]
    }
   ],
   "source": [
    "s1=\"python\"\n",
    "print(\"    \".join(s1))"
   ]
  },
  {
   "cell_type": "code",
   "execution_count": 111,
   "metadata": {},
   "outputs": [
    {
     "name": "stdout",
     "output_type": "stream",
     "text": [
      "['josh', 'rich']\n"
     ]
    }
   ],
   "source": [
    "s1=\"josh rich\"\n",
    "print(s1.split())"
   ]
  },
  {
   "cell_type": "code",
   "execution_count": 116,
   "metadata": {},
   "outputs": [
    {
     "name": "stdout",
     "output_type": "stream",
     "text": [
      "pythogron\n"
     ]
    }
   ],
   "source": [
    "s1=\"python\"\n",
    "print(s1.replace(\"on\",\"ogron\"))"
   ]
  },
  {
   "cell_type": "code",
   "execution_count": null,
   "metadata": {},
   "outputs": [],
   "source": []
  }
 ],
 "metadata": {
  "kernelspec": {
   "display_name": "Python 3",
   "language": "python",
   "name": "python3"
  },
  "language_info": {
   "codemirror_mode": {
    "name": "ipython",
    "version": 3
   },
   "file_extension": ".py",
   "mimetype": "text/x-python",
   "name": "python",
   "nbconvert_exporter": "python",
   "pygments_lexer": "ipython3",
   "version": "3.7.3"
  }
 },
 "nbformat": 4,
 "nbformat_minor": 2
}
